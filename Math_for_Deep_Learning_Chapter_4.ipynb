{
  "nbformat": 4,
  "nbformat_minor": 0,
  "metadata": {
    "colab": {
      "name": "Math for Deep Learning Chapter 4.ipynb",
      "provenance": [],
      "collapsed_sections": []
    },
    "kernelspec": {
      "name": "python3",
      "display_name": "Python 3"
    },
    "language_info": {
      "name": "python"
    }
  },
  "cells": [
    {
      "cell_type": "markdown",
      "metadata": {
        "id": "mMGrONU-pP3X"
      },
      "source": [
        "AS the sample size increases, the difference between biased variance and unbiased variance becomes shorter"
      ]
    },
    {
      "cell_type": "code",
      "metadata": {
        "id": "n0oaUc0fmNqp"
      },
      "source": [
        "import numpy as np\n",
        "n = 10\n",
        "a = np.random.random(n)\n",
        "biased_variance  = (1/(n))*((a-a.mean()) ** 2).sum()\n",
        "unbiased_variance = (1/(n-1))*((a-a.mean()) ** 2).sum()"
      ],
      "execution_count": null,
      "outputs": []
    },
    {
      "cell_type": "code",
      "metadata": {
        "colab": {
          "base_uri": "https://localhost:8080/"
        },
        "id": "JtfSR1w6nndw",
        "outputId": "dca494e2-69d9-49cf-b6f0-043b8f228170"
      },
      "source": [
        "print(biased_variance) \n",
        "print(unbiased_variance)"
      ],
      "execution_count": null,
      "outputs": [
        {
          "output_type": "stream",
          "name": "stdout",
          "text": [
            "0.10416885462014941\n",
            "0.115743171800166\n"
          ]
        }
      ]
    },
    {
      "cell_type": "code",
      "metadata": {
        "id": "TjW4SDO4o29S"
      },
      "source": [
        "import numpy as np\n",
        "n = 10000\n",
        "a = np.random.random(n)\n",
        "biased_variance  = (1/(n))*((a-a.mean()) ** 2).sum()\n",
        "unbiased_variance = (1/(n-1))*((a-a.mean()) ** 2).sum()"
      ],
      "execution_count": null,
      "outputs": []
    },
    {
      "cell_type": "code",
      "metadata": {
        "colab": {
          "base_uri": "https://localhost:8080/"
        },
        "id": "s9ewIkUipIdh",
        "outputId": "57b94050-7a63-4ad2-da58-b9ad415c8633"
      },
      "source": [
        "print(biased_variance) \n",
        "print(unbiased_variance)"
      ],
      "execution_count": null,
      "outputs": [
        {
          "output_type": "stream",
          "name": "stdout",
          "text": [
            "0.08343585521434647\n",
            "0.08344419963430989\n"
          ]
        }
      ]
    },
    {
      "cell_type": "markdown",
      "metadata": {
        "id": "XvVsotl8z5nb"
      },
      "source": [
        "## Using Quantiles"
      ]
    },
    {
      "cell_type": "code",
      "metadata": {
        "id": "qwoD_cMrpK8B"
      },
      "source": [
        "import numpy as np\n",
        "import matplotlib.pyplot as plt"
      ],
      "execution_count": null,
      "outputs": []
    },
    {
      "cell_type": "code",
      "metadata": {
        "colab": {
          "base_uri": "https://localhost:8080/"
        },
        "id": "1tVmpRJs1fLq",
        "outputId": "7ed077de-e78a-42ea-c035-14449e8a4007"
      },
      "source": [
        "d = np.load(\"exams.npy\")\n",
        "p = d[:, 0].astype(\"uint32\")\n",
        "q = np.quantile(p, [0.0, 0.25, 0.5, 0.75, 1.0])\n",
        "\n",
        "print()\n",
        "print(\"Quartiles: \", q)\n",
        "print()\n",
        "print(\"Counts by quartile\")\n",
        "print(\"   %d\" % ((q[0] <= p) & (p < q[1])).sum())\n",
        "print(\"   %d\" % ((q[1] <= p) & (p < q[2])).sum())\n",
        "print(\"   %d\" % ((q[2] <= p) & (p < q[3])).sum())\n",
        "print(\"   %d\" % ((q[3] <= p) & (p < q[4])).sum())"
      ],
      "execution_count": null,
      "outputs": [
        {
          "output_type": "stream",
          "name": "stdout",
          "text": [
            "\n",
            "Quartiles:  [ 18.    56.75  68.    78.   100.  ]\n",
            "\n",
            "Counts by quartile\n",
            "   250\n",
            "   237\n",
            "   253\n",
            "   248\n"
          ]
        }
      ]
    },
    {
      "cell_type": "code",
      "metadata": {
        "id": "ZJozVkJ2540s",
        "colab": {
          "base_uri": "https://localhost:8080/",
          "height": 319
        },
        "outputId": "3095908d-c128-46a6-c4c5-03b58c3b2521"
      },
      "source": [
        "h = np.bincount(p, minlength=100)\n",
        "x = np.arange(101)\n",
        "plt.bar(x, h, width=0.8*(x[1]-x[0]))\n",
        "n = 1.1*h.max()\n",
        "plt.plot([q[1], q[1]], [0, n], linewidth=3, color='k')\n",
        "plt.plot([q[2], q[2]], [0, n], linewidth=3, color='k')\n",
        "plt.plot([q[3], q[3]], [0, n], linewidth=3, color='k')\n",
        "plt.xlim((p.min()-1, p.max()+1))\n",
        "plt.ylabel(\"Count\")\n",
        "plt.tight_layout(pad=0, w_pad=0, h_pad=0)\n",
        "# plt.savefig(\"quantiles_plot.png\", dpi=300)\n",
        "plt.show()\n",
        "# plt.close()"
      ],
      "execution_count": null,
      "outputs": [
        {
          "output_type": "display_data",
          "data": {
            "image/png": "[encoded data removed]",
            "text/plain": [
              "<Figure size 432x288 with 1 Axes>"
            ]
          },
          "metadata": {
            "needs_background": "light"
          }
        }
      ]
    },
    {
      "cell_type": "code",
      "metadata": {
        "colab": {
          "base_uri": "https://localhost:8080/",
          "height": 319
        },
        "id": "HV4qWYdUnWL6",
        "outputId": "cb9d4af9-9c77-4a2c-bfe5-dbb067c9ae97"
      },
      "source": [
        "# both plot\n",
        "plt.boxplot(d)\n",
        "plt.xlabel(\"Test\")\n",
        "plt.ylabel(\"Scores\")\n",
        "plt.tight_layout(pad=0, w_pad=0, h_pad=0)\n",
        "# plt.savefig(\"box_plot.png\", dpi=300)\n",
        "plt.show()\n",
        "# plt.close()"
      ],
      "execution_count": null,
      "outputs": [
        {
          "output_type": "display_data",
          "data": {
            "image/png": "[encoded data removed]",
            "text/plain": [
              "<Figure size 432x288 with 1 Axes>"
            ]
          },
          "metadata": {
            "needs_background": "light"
          }
        }
      ]
    },
    {
      "cell_type": "code",
      "metadata": {
        "colab": {
          "base_uri": "https://localhost:8080/",
          "height": 319
        },
        "id": "YmhTpDIYpg_w",
        "outputId": "f3b7c0c6-0067-4a96-8c50-db49e4556836"
      },
      "source": [
        "plt.boxplot(p)\n",
        "plt.ylabel(\"Scores\")\n",
        "plt.tight_layout(pad=0, w_pad=0, h_pad=0)\n",
        "# plt.savefit(\"box_plot_1.png\", dpi=300)\n",
        "plt.show()\n",
        "# plt.close()"
      ],
      "execution_count": null,
      "outputs": [
        {
          "output_type": "display_data",
          "data": {
            "image/png": "[encoded data removed]",
            "text/plain": [
              "<Figure size 432x288 with 1 Axes>"
            ]
          },
          "metadata": {
            "needs_background": "light"
          }
        }
      ]
    },
    {
      "cell_type": "code",
      "metadata": {
        "id": "gn30fzqap8XU"
      },
      "source": [
        ""
      ],
      "execution_count": null,
      "outputs": []
    },
    {
      "cell_type": "markdown",
      "metadata": {
        "id": "FlZabAc9FqJm"
      },
      "source": [
        "## Missing Values"
      ]
    },
    {
      "cell_type": "code",
      "metadata": {
        "id": "sC8DbgwiFsqP"
      },
      "source": [
        "import numpy as np\n",
        "import matplotlib.pyplot as plt"
      ],
      "execution_count": null,
      "outputs": []
    },
    {
      "cell_type": "code",
      "metadata": {
        "colab": {
          "base_uri": "https://localhost:8080/",
          "height": 319
        },
        "id": "v7v8mHPhFx5v",
        "outputId": "ff544468-ee11-4ff9-b01b-7fdd7b7f9bd7"
      },
      "source": [
        "N = 1000\n",
        "np.random.seed(73939133)\n",
        "x =  np.zeros((N, 4))\n",
        "x[:, 0] = 5*np.random.random(N)\n",
        "x[:, 1] = np.random.normal(10, 1, size=N)\n",
        "x[:, 2] = 3*np.random.beta(5,2, N)\n",
        "x[:, 3] = 0.3 * np.random.lognormal(size=N)\n",
        "\n",
        "plt.boxplot(x)\n",
        "plt.tight_layout(pad=0, w_pad=0, h_pad=0)\n",
        "plt.show()\n",
        "# plt.savefig(\"missing_box_plot.png\", dpi=300)\n",
        "# plt.close()\n"
      ],
      "execution_count": null,
      "outputs": [
        {
          "output_type": "display_data",
          "data": {
            "image/png": "[encoded data removed]",
            "text/plain": [
              "<Figure size 432x288 with 1 Axes>"
            ]
          },
          "metadata": {
            "needs_background": "light"
          }
        }
      ]
    },
    {
      "cell_type": "code",
      "metadata": {
        "id": "JPjF9VnrH6qr"
      },
      "source": [
        "# Make 5% of the values NaN\n",
        "i = np.random.randint(0, N, size=int(0.05*N))\n",
        "x[i,0] = np.nan\n",
        "i = np.random.randint(0, N, size=int(0.05*N))\n",
        "x[i, 1] = np.nan\n",
        "i = np.random.randint(0, N, size=int(0.05*N))\n",
        "x[i, 2] = np.nan\n",
        "i = np.random.randint(0, N, size=int(0.05*N))\n",
        "x[i, 3] = np.nan\n"
      ],
      "execution_count": null,
      "outputs": []
    },
    {
      "cell_type": "code",
      "metadata": {
        "colab": {
          "base_uri": "https://localhost:8080/",
          "height": 336
        },
        "id": "EJVCy2dSJsHB",
        "outputId": "8b7f8f32-f691-48e1-9b2e-ea6295e28b47"
      },
      "source": [
        "# Do we have NaNs in feature 2?\n",
        "if(np.isnan(x[:,2]).sum() != 0):\n",
        "  print(\"NaNs present\")\n",
        "  i = np.where(np.isnan(x[:,2]) == False)\n",
        "  z = x[i, 2]\n",
        "  mn, md, s = z.mean(), np.median(z), z.std(ddof=1)\n",
        "  hh, xx = np.histogram(z, bins=40)\n",
        "  plt.bar(xx[:-1], hh, width=0.8*(xx[1]-xx[0]))\n",
        "  plt.xlabel(\"x\")\n",
        "  plt.ylabel(\"Count\")\n",
        "  plt.tight_layout(pad=0, w_pad=0, h_pad=0)\n",
        "  plt.show()\n",
        "  # plt.savefit(\"missing_feature_2_plot.png\", dpi=300)\n",
        "  # plt.close()"
      ],
      "execution_count": null,
      "outputs": [
        {
          "output_type": "stream",
          "name": "stdout",
          "text": [
            "NaNs present\n"
          ]
        },
        {
          "output_type": "display_data",
          "data": {
            "image/png": "[encoded data removed]",
            "text/plain": [
              "<Figure size 432x288 with 1 Axes>"
            ]
          },
          "metadata": {
            "needs_background": "light"
          }
        }
      ]
    },
    {
      "cell_type": "code",
      "metadata": {
        "colab": {
          "base_uri": "https://localhost:8080/",
          "height": 353
        },
        "id": "YS8C7ozGLmSl",
        "outputId": "5116d94e-2fc4-4c38-9ecc-824dbbf0d40b"
      },
      "source": [
        "if(np.isnan(x[:,2]).sum() != 0):\n",
        "  i = np.where(np.isnan(x[:, 2]) == True)\n",
        "  x[i, 2] = md # replace w/median\n",
        "\n",
        "  print(\"non-NaN mean, std = \", z.mean(), z.std(ddof=1))\n",
        "  print(\"updated mean, std = \", x[:, 2].mean(), x[:, 2].std(ddof=1))\n",
        "\n",
        "  hh, xx = np.histogram(x[:, 2], bins=40)\n",
        "  plt.bar(xx[:-1], hh, width=0.8*(xx[1]-xx[0]))\n",
        "  plt.xlabel(\"x\")\n",
        "  plt.ylabel(\"Count\")\n",
        "  plt.tight_layout(pad=0, w_pad=0, h_pad=0)\n",
        "  plt.show()\n",
        "  # plt.savefig(\"missing_feature_2_updated_plot.png\", dpi=300)\n",
        "  # plt.close()"
      ],
      "execution_count": null,
      "outputs": [
        {
          "output_type": "stream",
          "name": "stdout",
          "text": [
            "non-NaN mean, std =  2.169986269563819 0.4745140140980093\n",
            "updated mean, std =  2.173269045427578 0.4629566451638146\n"
          ]
        },
        {
          "output_type": "display_data",
          "data": {
            "image/png": "[encoded data removed]",
            "text/plain": [
              "<Figure size 432x288 with 1 Axes>"
            ]
          },
          "metadata": {
            "needs_background": "light"
          }
        }
      ]
    },
    {
      "cell_type": "code",
      "metadata": {
        "colab": {
          "base_uri": "https://localhost:8080/",
          "height": 319
        },
        "id": "59z6on0vNN9R",
        "outputId": "fd2483f3-b591-46e2-cc9f-b3254826d2c7"
      },
      "source": [
        "# Do the same to others\n",
        "i = np.where(np.isnan(x[:, 0]) == False)\n",
        "m = np.median(x[i, 0])\n",
        "i = np.where(np.isnan(x[:, 0]) == True)\n",
        "x[i, 0] = m\n",
        "\n",
        "i = np.where(np.isnan(x[:, 1]) == False)\n",
        "m = np.median(x[i, 1])\n",
        "i = np.where(np.isnan(x[:, 1]) == True)\n",
        "x[i, 1] = m\n",
        "\n",
        "i = np.where(np.isnan(x[:, 3]) == False)\n",
        "m = np.median(x[i, 3])\n",
        "i = np.where(np.isnan(x[:, 3]) == True)\n",
        "x[i, 3] = m\n",
        "\n",
        "plt.boxplot(x)\n",
        "plt.tight_layout(pad=0, w_pad=0, h_pad=0)\n",
        "plt.show()\n",
        "# plt.savefig(\"missing_updated_box_plot.png\", dpi=300)\n",
        "# plt.close()"
      ],
      "execution_count": null,
      "outputs": [
        {
          "output_type": "display_data",
          "data": {
            "image/png": "[encoded data removed]",
            "text/plain": [
              "<Figure size 432x288 with 1 Axes>"
            ]
          },
          "metadata": {
            "needs_background": "light"
          }
        }
      ]
    },
    {
      "cell_type": "code",
      "metadata": {
        "id": "z6u4q5zlOiQe"
      },
      "source": [
        ""
      ],
      "execution_count": null,
      "outputs": []
    },
    {
      "cell_type": "markdown",
      "metadata": {
        "id": "O1aEJnLpxFHK"
      },
      "source": [
        "## Correlation"
      ]
    },
    {
      "cell_type": "code",
      "metadata": {
        "id": "dZmVvi06xHQC"
      },
      "source": [
        "import numpy as np\n",
        "import matplotlib.pyplot as plt "
      ],
      "execution_count": null,
      "outputs": []
    },
    {
      "cell_type": "code",
      "metadata": {
        "id": "zq8Dnsp4xNUq"
      },
      "source": [
        "np.random.seed(8675309)"
      ],
      "execution_count": null,
      "outputs": []
    },
    {
      "cell_type": "code",
      "metadata": {
        "id": "0qJB-_R5xUDI"
      },
      "source": [
        "N = 100\n",
        "x = np.linspace(0, 1, N) + (np.random.random(N) - 0.5)\n",
        "y = np.random.random(N) * x\n",
        "z = -0.1 * np.random.random(N)*x"
      ],
      "execution_count": null,
      "outputs": []
    },
    {
      "cell_type": "code",
      "metadata": {
        "colab": {
          "base_uri": "https://localhost:8080/"
        },
        "id": "dbY-o_YMx47X",
        "outputId": "a04186fc-e57d-4311-9cef-633d585683b9"
      },
      "source": [
        "print(x)\n",
        "print(y)\n",
        "print(z)"
      ],
      "execution_count": null,
      "outputs": [
        {
          "output_type": "stream",
          "name": "stdout",
          "text": [
            "[ 0.31245912  0.2611461  -0.12243146 -0.26740219 -0.05059483 -0.36737022\n",
            " -0.22440742 -0.015412   -0.40102454  0.26068566  0.20111351  0.53039327\n",
            " -0.03605961  0.1864928   0.35893464 -0.16985312  0.59072878  0.43323201\n",
            " -0.19793649  0.32759112 -0.17227025 -0.17455559  0.54348101  0.68943772\n",
            " -0.20156662  0.43146638 -0.14555018  0.62743354 -0.14487476  0.77477553\n",
            "  0.69373662  0.20794274  0.17834131  0.57751433  0.07400327 -0.11141428\n",
            "  0.75526185  0.45961951  0.04589426  0.70675591  0.67929252  0.44484954\n",
            "  0.32735994 -0.05185545  0.49659441  0.10242908  0.61557639  0.77006253\n",
            "  0.90098178  0.7179596   0.1496393   0.08213664  0.71036937  0.19528999\n",
            "  0.79001132  0.6103903   0.43356075  1.01611532  0.39353825  0.37885225\n",
            "  0.87835903  0.69838204  0.52661854  0.30528467  0.85784283  0.47356657\n",
            "  1.14576795  0.40272775  1.10843673  0.92624655  0.84897998  0.38436518\n",
            "  0.53827757  0.37249526  0.57255794  0.33664615  0.66849967  1.14836383\n",
            "  0.82876692  1.06471669  0.33345306  0.82493151  0.42972317  0.88457281\n",
            "  1.21421131  1.12777813  1.14781804  0.64788844  0.54896012  0.59893518\n",
            "  0.42889039  0.65373076  1.21449017  1.3236575   1.24224823  0.69933881\n",
            "  0.77213148  1.26742441  1.45291419  0.58542485]\n",
            "[ 7.99006163e-02  1.52355907e-01 -1.20261858e-01 -2.50250166e-01\n",
            " -3.28250523e-02 -1.23581197e-01 -1.04460161e-01 -1.53312214e-03\n",
            " -3.40631426e-02  3.15056920e-04  2.18973364e-02  4.49087951e-01\n",
            " -1.41859452e-03  1.69600416e-01  3.19962470e-01 -4.13914871e-02\n",
            "  2.36351846e-02  3.21327867e-01 -4.04756297e-02  2.90482537e-01\n",
            " -9.47913702e-02 -9.44846737e-02  2.88751177e-01  3.17729725e-01\n",
            " -1.79600894e-01  4.34668100e-02 -2.30827187e-02  9.78568636e-03\n",
            " -5.85229656e-02  4.12849959e-01  5.51889008e-01  1.45332153e-01\n",
            "  7.02170442e-02  2.14869356e-01  6.56469464e-02 -5.54613291e-02\n",
            "  2.08895022e-01  4.51757096e-01  3.31799790e-02  6.99498747e-01\n",
            "  6.12339058e-02  2.53585659e-01  2.70005590e-02 -4.63461302e-02\n",
            "  1.91065050e-01  1.71842851e-02  1.84095995e-01  4.65716469e-02\n",
            "  2.66529762e-01  6.73434998e-01  1.31530918e-01  7.39318582e-02\n",
            "  3.31317076e-01  3.69574698e-02  5.63394490e-01  3.78084996e-01\n",
            "  8.43487664e-02  1.99337483e-01  2.42378329e-01  2.62705288e-01\n",
            "  8.14506014e-01  3.60010052e-03  3.87728254e-01  2.82532043e-01\n",
            "  5.95674675e-02  4.37894910e-01  6.04922522e-01  2.24272528e-01\n",
            "  5.39704130e-02  9.19984702e-01  4.46605337e-01  6.72515413e-02\n",
            "  3.45368162e-01  3.23997284e-01  5.49408785e-01  2.57200342e-01\n",
            "  5.68993962e-01  5.89719521e-01  5.78604343e-01  2.15844003e-01\n",
            "  2.09497776e-02  2.81107023e-02  3.88105916e-01  4.86720682e-03\n",
            "  4.11293217e-01  3.51642800e-02  3.13316095e-01  5.19251171e-01\n",
            "  5.24114261e-01  1.57036591e-01  1.96267806e-01  4.37030767e-01\n",
            "  6.22107972e-01  3.73916702e-01  1.20115776e+00  9.87541946e-02\n",
            "  7.56660126e-01  1.24660439e+00  7.62884461e-01  4.08002626e-01]\n",
            "[-1.46691292e-02 -7.30663305e-03  3.58678820e-04  6.19277258e-03\n",
            "  4.37892195e-03  1.64117675e-02  1.78262255e-02  1.50681223e-03\n",
            "  2.30184825e-02 -4.10676281e-03 -1.94406748e-02 -3.76874431e-02\n",
            "  2.62224295e-03 -5.38770849e-03 -9.37875893e-04  1.21492634e-02\n",
            " -2.21437514e-02 -2.36106935e-02  7.07830970e-03 -6.16292015e-03\n",
            "  4.15354255e-03  7.10677558e-03 -7.42509805e-03 -4.95859956e-02\n",
            "  3.42016735e-05 -1.11184180e-02  3.88679154e-03 -5.12553117e-02\n",
            "  4.45872939e-03 -3.94888476e-02 -3.21912719e-02 -1.28350573e-02\n",
            " -3.32406197e-03 -2.86555061e-04 -2.99497121e-03  1.08829078e-02\n",
            " -3.87554607e-02 -1.34891315e-02 -3.61418943e-03 -1.74049714e-02\n",
            " -3.58372301e-02 -4.42072864e-02 -1.16964090e-02  4.55931598e-03\n",
            " -3.85542611e-02 -8.66721748e-03 -2.84830782e-02 -4.19912140e-02\n",
            " -2.87325055e-02 -3.77498566e-02 -1.46182326e-02 -8.14053949e-03\n",
            " -4.42101623e-02 -6.03864925e-03 -5.86567310e-02 -2.10791540e-02\n",
            " -1.27298663e-02 -4.62847979e-02 -1.63210505e-02 -1.69146468e-02\n",
            " -4.99487885e-02 -3.94387327e-02 -3.76355702e-02 -3.76921108e-03\n",
            " -1.50187742e-02 -4.17843198e-02 -1.05179197e-01 -2.82627953e-02\n",
            " -9.51630762e-02 -8.17860554e-02 -3.41195851e-02 -1.65488559e-02\n",
            " -9.63212011e-03 -8.77412039e-03 -2.23225182e-02 -2.89920688e-02\n",
            " -3.80213818e-02 -1.14605526e-01 -6.27585377e-02 -9.32145474e-02\n",
            " -2.37426719e-02 -8.21904223e-02 -5.05222172e-04 -6.34954486e-02\n",
            " -9.69767318e-02 -7.61205153e-02 -6.04999139e-02 -2.77201083e-02\n",
            " -5.48948696e-02 -2.27324164e-02 -1.19945242e-02 -5.54381497e-02\n",
            " -8.58674725e-02 -3.20889895e-02 -4.56014917e-02 -2.99346821e-02\n",
            " -7.47239643e-02 -7.25423278e-02 -6.71998730e-02 -2.42552698e-02]\n"
          ]
        }
      ]
    },
    {
      "cell_type": "code",
      "metadata": {
        "colab": {
          "base_uri": "https://localhost:8080/",
          "height": 319
        },
        "id": "GRuh_DBJx9hX",
        "outputId": "b807ced0-8284-4524-9621-f5d9905e5532"
      },
      "source": [
        "plt.plot(np.linspace(0, 1, N), x, color='r')\n",
        "plt.plot(np.linspace(0, 1, N), y, color='g')\n",
        "plt.plot(np.linspace(0, 1, N), z, color='b')\n",
        "plt.plot(np.linspace(0, 1, N)[::5], x[::5], color='r', marker='o', linestyle='none', label='X')\n",
        "plt.plot(np.linspace(0, 1, N)[::5], y[::5], color='g', marker='s', linestyle='none', label='Y')\n",
        "plt.plot(np.linspace(0, 1, N)[::5], z[::5], color='b', marker='*', linestyle='none', label='Z')\n",
        "plt.legend(loc=\"upper left\")\n",
        "plt.tight_layout(pad=0, w_pad=0, h_pad=0)\n",
        "plt.show()\n",
        "# plt.savefit(\"correlation_scatter_plot.png\", dpi=300)\n",
        "# plt.close()"
      ],
      "execution_count": null,
      "outputs": [
        {
          "output_type": "display_data",
          "data": {
            "image/png": "[encoded data removed]",
            "text/plain": [
              "<Figure size 432x288 with 1 Axes>"
            ]
          },
          "metadata": {
            "needs_background": "light"
          }
        }
      ]
    },
    {
      "cell_type": "code",
      "metadata": {
        "colab": {
          "base_uri": "https://localhost:8080/",
          "height": 319
        },
        "id": "We3s2LlKzyRu",
        "outputId": "b6dbc746-29f1-4358-f589-84ca806a90fd"
      },
      "source": [
        "plt.plot(x, y, marker='o', linestyle='none', color='r', label=\"X,Y\")\n",
        "plt.plot(x, z, marker='s', linestyle='none', color='g', label=\"X,Z\")\n",
        "plt.plot(y, z, marker='*', linestyle='none', color='b', label=\"Y,Z\")\n",
        "plt.legend(loc=\"upper left\")\n",
        "plt.tight_layout(pad=0, w_pad=0, h_pad=0)\n",
        "plt.show()\n",
        "# plt.savefig(\"correlation_scatter_plot.png\", dpi=300)\n",
        "# plt.close()"
      ],
      "execution_count": null,
      "outputs": [
        {
          "output_type": "display_data",
          "data": {
            "image/png": "[encoded data removed]",
            "text/plain": [
              "<Figure size 432x288 with 1 Axes>"
            ]
          },
          "metadata": {
            "needs_background": "light"
          }
        }
      ]
    },
    {
      "cell_type": "code",
      "metadata": {
        "colab": {
          "base_uri": "https://localhost:8080/"
        },
        "id": "FV46wHuo4gEG",
        "outputId": "cfe0c6c2-b060-40cb-aaf8-91803953898b"
      },
      "source": [
        "from scipy.stats import pearsonr, spearmanr \n",
        "print(\"Pearson(x,y) : \", pearsonr(x, y)[0])\n",
        "print(\"Spearman(x,y) : \", spearmanr(x, y)[0])\n",
        "print()\n",
        "print(\"Pearson(x,z) : \", pearsonr(x, z)[0])\n",
        "print(\"Spearman(x,z) : \", spearmanr(x, z)[0])\n",
        "print()\n",
        "print(\"Pearson(y,z) : \", pearsonr(y, z)[0])\n",
        "print(\"Spearman(y,z) : \", spearmanr(y, z)[0])\n",
        "print()"
      ],
      "execution_count": null,
      "outputs": [
        {
          "output_type": "stream",
          "name": "stdout",
          "text": [
            "Pearson(x,y) :  0.6828516550443248\n",
            "Spearman(x,y) :  0.6940174017401739\n",
            "\n",
            "Pearson(x,z) :  -0.8504746770227909\n",
            "Spearman(x,z) :  -0.895085508550855\n",
            "\n",
            "Pearson(y,z) :  -0.5653610370701884\n",
            "Spearman(y,z) :  -0.6414041404140414\n",
            "\n"
          ]
        }
      ]
    },
    {
      "cell_type": "code",
      "metadata": {
        "id": "T7EXqgHE6upo"
      },
      "source": [
        "def pearson(x,y):\n",
        "  exy = (x*y).mean()\n",
        "  ex = x.mean()\n",
        "  ey = y.mean()\n",
        "  exx = (x*x).mean()\n",
        "  ex2 = x.mean() ** 2\n",
        "  eyy = (y*y).mean()\n",
        "  ey2 = y.mean()**2\n",
        "  return (exy - ex*ey)/(np.sqrt(exx-ex2) * np.sqrt(eyy-ey2))"
      ],
      "execution_count": null,
      "outputs": []
    },
    {
      "cell_type": "code",
      "metadata": {
        "colab": {
          "base_uri": "https://localhost:8080/"
        },
        "id": "B9PNIIKxyp8-",
        "outputId": "6799ad80-94a7-4e60-94b2-ad32448b368f"
      },
      "source": [
        "print(\"Pearson(x,y): \", pearson(x,y))\n",
        "print(\"Pearson(x,z): \", pearson(x,z))\n",
        "print(\"Pearson(y,z): \", pearson(y,z))"
      ],
      "execution_count": null,
      "outputs": [
        {
          "output_type": "stream",
          "name": "stdout",
          "text": [
            "Pearson(x,y):  0.6828516550443247\n",
            "Pearson(x,z):  -0.8504746770227909\n",
            "Pearson(y,z):  -0.5653610370701883\n"
          ]
        }
      ]
    },
    {
      "cell_type": "code",
      "metadata": {
        "colab": {
          "base_uri": "https://localhost:8080/"
        },
        "id": "egTQx4Px0Fkw",
        "outputId": "17da4479-a0d2-4c72-8d09-e060a1327fea"
      },
      "source": [
        "d = np.vstack((x,y,z))\n",
        "print(np.corrcoef(d))\n",
        "print()"
      ],
      "execution_count": null,
      "outputs": [
        {
          "output_type": "stream",
          "name": "stdout",
          "text": [
            "[[ 1.          0.68285166 -0.85047468]\n",
            " [ 0.68285166  1.         -0.56536104]\n",
            " [-0.85047468 -0.56536104  1.        ]]\n",
            "\n"
          ]
        }
      ]
    },
    {
      "cell_type": "code",
      "metadata": {
        "colab": {
          "base_uri": "https://localhost:8080/"
        },
        "id": "eMiQ_1UO0gUP",
        "outputId": "9271df40-eaef-4ddd-f779-7f310307c858"
      },
      "source": [
        "from sklearn.datasets import load_sample_image\n",
        "china = load_sample_image('china.jpg')\n",
        "a = china[230, :, 1].astype(\"float64\")\n",
        "b = china[231, :, 1].astype(\"float64\")\n",
        "c = china[400, :, 1].astype(\"float64\")\n",
        "d = np.random.random(640)\n",
        "print(\"china(a, b): \", pearson(a, b))\n",
        "print(\"china(a, c): \", pearson(a, c))\n",
        "print(\"china(a, d): \", pearson(a, d))\n",
        "print()"
      ],
      "execution_count": null,
      "outputs": [
        {
          "output_type": "stream",
          "name": "stdout",
          "text": [
            "china(a, b):  0.8979359541118713\n",
            "china(a, c):  -0.276082058438271\n",
            "china(a, d):  -0.06717496519306748\n",
            "\n"
          ]
        }
      ]
    },
    {
      "cell_type": "code",
      "metadata": {
        "id": "xDArFRvC3Idp"
      },
      "source": [
        "# spearman\n",
        "def spearman(x, y):\n",
        "  n = len(x)\n",
        "  t = x[np.argsort(x)]\n",
        "  rx = []\n",
        "  for i in range(n):\n",
        "    rx.append(np.where(x[i] == t)[0][0])\n",
        "  rx = np.array(rx, dtype=\"float64\")\n",
        "  t = y[np.argsort(y)]\n",
        "  ry = []\n",
        "  for i in range(n):\n",
        "    ry.append(np.where(y[i] == t)[0][0])\n",
        "  ry = np.array(ry, dtype=\"float64\")\n",
        "  d = rx - ry\n",
        "  return 1.0 - (6.0/(n*(n*n-1)))*(d**2).sum()"
      ],
      "execution_count": null,
      "outputs": []
    },
    {
      "cell_type": "code",
      "metadata": {
        "colab": {
          "base_uri": "https://localhost:8080/"
        },
        "id": "CGcKwQTE5k5v",
        "outputId": "bc55b237-3925-4b44-989d-88faa2d2c9b2"
      },
      "source": [
        "print(spearman(x,y), spearmanr(x,y)[0])\n",
        "print(spearman(x,z), spearmanr(x,z)[0])\n",
        "print(spearman(y,z), spearmanr(y,z)[0])\n",
        "print()"
      ],
      "execution_count": null,
      "outputs": [
        {
          "output_type": "stream",
          "name": "stdout",
          "text": [
            "0.694017401740174 0.6940174017401739\n",
            "-0.8950855085508551 -0.895085508550855\n",
            "-0.6414041404140414 -0.6414041404140414\n",
            "\n"
          ]
        }
      ]
    },
    {
      "cell_type": "code",
      "metadata": {
        "colab": {
          "base_uri": "https://localhost:8080/"
        },
        "id": "wLI6PyZh6x1h",
        "outputId": "c076e45d-7a4a-451a-c8f5-643d14575ade"
      },
      "source": [
        "a = np.linspace(-20, 20, 1000)\n",
        "b = 1.0 / (1.0 + np.exp(-a))\n",
        "print(pearson(a, b))\n",
        "print(spearman(a, b))"
      ],
      "execution_count": null,
      "outputs": [
        {
          "output_type": "stream",
          "name": "stdout",
          "text": [
            "0.9053277293366915\n",
            "1.0\n"
          ]
        }
      ]
    },
    {
      "cell_type": "code",
      "metadata": {
        "id": "EB-JjPRq7DgR"
      },
      "source": [
        ""
      ],
      "execution_count": null,
      "outputs": []
    },
    {
      "cell_type": "markdown",
      "metadata": {
        "id": "HePCmCuWAU61"
      },
      "source": [
        "## Hypothesis"
      ]
    },
    {
      "cell_type": "code",
      "metadata": {
        "id": "s0j6Nr0UAnuN"
      },
      "source": [
        "import numpy as np\n",
        "import matplotlib.pylab as plt"
      ],
      "execution_count": null,
      "outputs": []
    },
    {
      "cell_type": "code",
      "metadata": {
        "colab": {
          "base_uri": "https://localhost:8080/"
        },
        "id": "2HgIhWHlAuqv",
        "outputId": "0381de82-93d7-4dca-bb0b-926b61fe618a"
      },
      "source": [
        "np.random.seed(65535)\n",
        "a = np.random.normal(85,6,50).astype(\"int32\")\n",
        "a[np.where(a > 100)] = 100\n",
        "b = np.random.normal(82,7,50).astype(\"int32\")\n",
        "b[np.where(b > 100)] = 100\n",
        "\n",
        "print(a)\n",
        "print()\n",
        "print(b)\n",
        "print()"
      ],
      "execution_count": null,
      "outputs": [
        {
          "output_type": "stream",
          "name": "stdout",
          "text": [
            "[ 81  80  85  87  83  87 100  90  79  83  88  75  87  92  78  80  83  91\n",
            "  82  88  89  92  97  82  79  82  82  85  89  91  83  85  77  81  90  87\n",
            "  82  84  86  79  84  85  90  84  90  85  85  78  94  87]\n",
            "\n",
            "[92 82 78 74 86 69 83 67 85 82 81 91 79 82 82 88 80 63 85 86 77 94 85 75\n",
            " 77 89 86 71 82 82 80 88 72 91 90 92 95 87 71 83 94 90 78 60 76 88 91 83\n",
            " 85 73]\n",
            "\n"
          ]
        }
      ]
    },
    {
      "cell_type": "code",
      "metadata": {
        "colab": {
          "base_uri": "https://localhost:8080/"
        },
        "id": "c_51XYMhBcIV",
        "outputId": "bcaf0e20-1f25-4edc-e503-d8d210da6478"
      },
      "source": [
        "print(\"With means of 82 & 85:\")\n",
        "from scipy.stats import ttest_ind\n",
        "t,p = ttest_ind(a,b,equal_var=False)\n",
        "print(\"(t=%0.5f, p=%0.5f)\" % (t,p))"
      ],
      "execution_count": null,
      "outputs": [
        {
          "output_type": "stream",
          "name": "stdout",
          "text": [
            "With means of 82 & 85:\n",
            "(t=2.40234, p=0.01852)\n"
          ]
        }
      ]
    },
    {
      "cell_type": "code",
      "metadata": {
        "colab": {
          "base_uri": "https://localhost:8080/",
          "height": 296
        },
        "id": "iwGRX-3LCRxz",
        "outputId": "6fb41385-5eeb-4aa7-9700-9fbec03c1cf0"
      },
      "source": [
        "from scipy.stats import mannwhitneyu \n",
        "u,p = mannwhitneyu(a,b)\n",
        "print(\"(U=%0.5f, p=%0.5f)\" % (u,p))\n",
        "\n",
        "plt.boxplot((a,b))\n",
        "plt.xlabel(\"Group\")\n",
        "plt.ylabel(\"Test Score\")\n",
        "plt.show()"
      ],
      "execution_count": null,
      "outputs": [
        {
          "output_type": "stream",
          "name": "stdout",
          "text": [
            "(U=997.00000, p=0.04058)\n"
          ]
        },
        {
          "output_type": "display_data",
          "data": {
            "image/png": "[encoded data removed]",
            "text/plain": [
              "<Figure size 432x288 with 1 Axes>"
            ]
          },
          "metadata": {
            "needs_background": "light"
          }
        }
      ]
    },
    {
      "cell_type": "code",
      "metadata": {
        "id": "FFwifHe-Ddyp"
      },
      "source": [
        "from scipy import stats\n",
        "def CI(a, b, alpha=0.05):\n",
        "  n1, n2 = len(a), len(b)\n",
        "  s1, s2 = np.std(a, ddof=1)**2, np.std(b, ddof=1)**2"
      ],
      "execution_count": null,
      "outputs": []
    }
  ]
}